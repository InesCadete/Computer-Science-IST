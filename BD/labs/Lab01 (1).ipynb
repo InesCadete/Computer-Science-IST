{
 "cells": [
  {
   "cell_type": "markdown",
   "id": "3f3d57fd-32f3-4a09-bb32-166188c03a60",
   "metadata": {},
   "source": [
    "# Lab 01: Introdução ao ambiente"
   ]
  },
  {
   "cell_type": "markdown",
   "id": "f7a89974-8cb3-4a7b-af91-654f7b88d9f0",
   "metadata": {},
   "source": [
    "## Utilizando o cliente de linha de comandos\n",
    "\n",
    "Regra geral, todos os sistemas de gestão de base de dados dispõem de uma interface de linha de comando através da qual é possível executar instruções SQL e também outros comandos de administração e manutenção do sistema."
   ]
  },
  {
   "cell_type": "markdown",
   "id": "c61b56dc-622b-4431-98a5-6d3ec7d7dbcc",
   "metadata": {},
   "source": [
    "**Nota:** Todos os comandos de administração começam com \\\\ (contra-barra ou barra invertida)."
   ]
  },
  {
   "cell_type": "markdown",
   "id": "57f18966-5799-4303-8ff0-96dea5b31306",
   "metadata": {},
   "source": [
    "**Nota:** Todos os comandos terminam com ; (ponto e vírgula) e começam com uma instrução SQL\n",
    "```sql\n",
    "CREATE, SELECT, UPDATE, INSERT, DELETE, etc.\n",
    "```"
   ]
  },
  {
   "cell_type": "markdown",
   "id": "5d958ddf-4091-41c8-a16e-ffce83e2265d",
   "metadata": {},
   "source": [
    "1. Clique no botão `New Launcher` no canto superior esquerdo anotado com um sinal `+`.\n",
    "\n",
    "2. Na página seguinte, selecione a opção Terminal na secção *Other*."
   ]
  },
  {
   "cell_type": "markdown",
   "id": "4ec44dd0-31e3-45df-9472-2d8faf6e712c",
   "metadata": {},
   "source": [
    "3. Ligue-se ao PostgreSQL usando o cliente de linha de comandos `psql`.\n",
    "\n",
    "```bash\n",
    "psql -h postgres -U postgres ⮐\n",
    "```"
   ]
  },
  {
   "cell_type": "markdown",
   "id": "58270be1-e8be-4352-85aa-4050d7cbf97e",
   "metadata": {},
   "source": [
    "4. Introduza a password do utilizador `postgres`.\n",
    "\n",
    "   `postgres`↵"
   ]
  },
  {
   "cell_type": "markdown",
   "id": "3644eeb4-18f1-4ddd-b877-755c57d49b66",
   "metadata": {
    "tags": []
   },
   "source": [
    "Uma vez no sistema, use o comando \\\\h ⮐ para obter informação sobre os comandos SQL disponíveis."
   ]
  },
  {
   "cell_type": "markdown",
   "id": "c411a60e-938e-434a-9e13-4c19e28f49db",
   "metadata": {},
   "source": [
    "Use o comando \\\\? ⮐ para obter informação sobre os comandos de administração disponíveis."
   ]
  },
  {
   "cell_type": "markdown",
   "id": "5d8eb965-0c00-425a-9826-5a4b46183094",
   "metadata": {},
   "source": [
    "## Criação da base de dados exemplo – ‘Bank’"
   ]
  },
  {
   "cell_type": "markdown",
   "id": "08c43f48-3b3d-451e-8990-94c2e199ea7a",
   "metadata": {},
   "source": [
    "Para criar uma base de dados, precisa de criar as tabelas e carregar os dados em cada tabela.\n",
    "A criação de uma base de dados é feita com a instrução `CREATE DATABASE`.\n",
    "A base de dados `bank`pode ser criada usando as instruções seguintes: "
   ]
  },
  {
   "cell_type": "markdown",
   "id": "5a61a1d2-f7f6-4d16-add3-c0dc814f0efa",
   "metadata": {},
   "source": [
    "5. Crie um utilizador `bank` sem privilégios.\n",
    "\n",
    "   ```sql\n",
    "   CREATE USER bank WITH PASSWORD 'bank'; ⮐\n",
    "   ```"
   ]
  },
  {
   "cell_type": "markdown",
   "id": "804349be-919e-49e2-abad-3e6ced3621b2",
   "metadata": {},
   "source": [
    "6. Crie a base de dados `bank` e defina o utilizador `bank` como dono da base de dados.\n",
    "\n",
    "    ```sql\n",
    "    CREATE DATABASE bank\n",
    "    WITH\n",
    "    OWNER = bank\n",
    "    ENCODING = 'UTF8'; ⮐\n",
    "    ```"
   ]
  },
  {
   "cell_type": "markdown",
   "id": "05d55497-9aa6-47aa-93f5-3c51e25ef7f2",
   "metadata": {},
   "source": [
    "_Note:_ Defina o *encoding* de caracteres para [UTF-8](https://en.wikipedia.org/wiki/UTF-8) explicitamente."
   ]
  },
  {
   "cell_type": "markdown",
   "id": "c81e3b56-bae1-401a-a3a2-79b204809f5b",
   "metadata": {},
   "source": [
    "7. Conceda ao utilizador `bank` todos os privilégios para a base de dados `bank`.\n",
    "\n",
    "```sql\n",
    "GRANT ALL ON DATABASE bank TO bank; ⮐\n",
    "```"
   ]
  },
  {
   "cell_type": "markdown",
   "id": "46854ce1-87b3-4869-ab81-1fdeea3c7eff",
   "metadata": {},
   "source": [
    "8. Termine o programa utilizando o comando \\\\q ⮐."
   ]
  },
  {
   "cell_type": "markdown",
   "id": "320911ca-e1ce-4e4e-aef8-b34791471f6c",
   "metadata": {},
   "source": [
    "![Figure 1](../images/Bank%20Example%20-%20Printable.png \"Bank Database\")"
   ]
  },
  {
   "cell_type": "markdown",
   "id": "586a9883-3c9c-4bf6-8e23-072bd8b8fe26",
   "metadata": {},
   "source": [
    "9. Ligue-se ao PostgreSQL usando o cliente de linha de comandos `psql`.\n",
    "\n",
    "```bash\n",
    "psql -h postgres -U bank ⮐\n",
    "```"
   ]
  },
  {
   "cell_type": "markdown",
   "id": "d75c2487-93b8-475d-be71-049010ee6f42",
   "metadata": {},
   "source": [
    "10. Introduza a password do utilizador `bank`.\n",
    "\n",
    "   `bank`↵"
   ]
  },
  {
   "cell_type": "markdown",
   "id": "41fc5c29-8cb4-4513-a1ae-e12adfe5f3bd",
   "metadata": {},
   "source": [
    "O ficheiro bank.sql contém um conjunto de instruções SQL para criar a base de dados de exemplo ilustrada na Figura 1. "
   ]
  },
  {
   "cell_type": "markdown",
   "id": "0a6ca443-d9b3-4d65-b812-3b2ce8068dad",
   "metadata": {},
   "source": [
    "A criação de tabelas é feira usando a instrução `CREATE TABLE`.\n",
    "Por exemplo, a tabela *customer* pode ser criada usando a instrução seguinte:"
   ]
  },
  {
   "cell_type": "markdown",
   "id": "845906ed-e159-4d49-a53a-1b15d50b81e6",
   "metadata": {
    "tags": []
   },
   "source": [
    "```sql\n",
    "CREATE TABLE customer\n",
    "   (customer_name\t\tvarchar(80)\tnot null unique,\n",
    "    customer_street\t\tvarchar(255)\tnot null,\n",
    "    customer_city\t\tvarchar(30)\tnot null,\n",
    "    CONSTRAINT pk_customer PRIMARY KEY(customer_name)); ⮐\n",
    "```"
   ]
  },
  {
   "cell_type": "markdown",
   "id": "d1dfeae2-a8fc-49a3-82e1-c8d052e32b3a",
   "metadata": {},
   "source": [
    "Esta instrução especifica o nome da tabela, os nomes das três colunas, o tipo de cada coluna, e ainda restrições tais como os valores não poderem ser **NULL** e o facto da chave primária da tabela ser o nome do cliente."
   ]
  },
  {
   "cell_type": "markdown",
   "id": "55864e28-0923-4632-a6c9-0ea4fa4ae177",
   "metadata": {},
   "source": [
    "Os registos de cada tabela são carregados através de instruções SQL **INSERT**. Por exemplo:"
   ]
  },
  {
   "cell_type": "markdown",
   "id": "83ef3b2c-e09e-4d3b-972f-dcb42a89dfb9",
   "metadata": {},
   "source": [
    "```sql\n",
    "INSERT INTO customer VALUES ( 'Luis' , 'Rua do Cima' , 'Musgueira' ); ⮐\n",
    "```"
   ]
  },
  {
   "cell_type": "markdown",
   "id": "1107c9b1-3072-4e90-8083-434554b59e63",
   "metadata": {},
   "source": [
    "Nesta instrução são especificados, respetivamente, os valores de cada coluna pela mesma ordem em que estes foram definidos aquando da criação da tabela.\n",
    "Esta instrução resulta na criação de um novo registo na tabela de clientes."
   ]
  },
  {
   "cell_type": "markdown",
   "id": "a907fddb-6cc8-452a-bc67-6f5ed3494dc4",
   "metadata": {},
   "source": [
    "Note-se que o ficheiro bank.sql inclui instruções para inserir mais registos na base de dados do que aqueles que se encontram exemplificados na Figura 1.\n",
    "Estes registos serão usados para realizar vários testes sobre a base de dados.\n",
    "Em aulas de laboratório futuras, iremos utilizar esta base de dados para demonstrar vários dos conceitos da disciplina."
   ]
  },
  {
   "cell_type": "markdown",
   "id": "b408235d-ec9f-4f8c-89b1-cddced3d322c",
   "metadata": {},
   "source": [
    "**Nota:** Muito embora também possa ser utilizada a interface gráfica pgAdmin, como forma de interagir com o sistema de gestão de bases de dados Postgres, nas aulas de laboratório iremos sobretudo utilizar a interface de linha de comandos. "
   ]
  },
  {
   "cell_type": "markdown",
   "id": "43cc6f76-e37a-45f1-85b5-0947c37c0c50",
   "metadata": {},
   "source": [
    "Para criar a base de dados de exemplo do Bank, execute o comando que irá carregar e executar as instruções SQL que estão no ficheiro bank.sql.\n",
    "O Postgres irá produzir algumas mensagens à medida que executa as instruções do ficheiro."
   ]
  },
  {
   "cell_type": "markdown",
   "id": "843394e8-8bed-4709-964c-052753fa6740",
   "metadata": {},
   "source": [
    "```sql\n",
    "\\i ~/data/bank.sql ⮐\n",
    "```"
   ]
  },
  {
   "cell_type": "markdown",
   "id": "99148054-008b-4092-bc57-11e98762f4e5",
   "metadata": {},
   "source": [
    "No final da execução, a base de dados de exemplo está criada."
   ]
  },
  {
   "cell_type": "markdown",
   "id": "bc338236-5d17-4a63-ab23-48ea0143194c",
   "metadata": {
    "tags": []
   },
   "source": [
    "Para listar as tabelas da base de dados, use o comando: **\\\\d** ⮐"
   ]
  },
  {
   "cell_type": "markdown",
   "id": "7b2e1f78-a091-40a8-9e17-ec45cc0a732f",
   "metadata": {},
   "source": [
    "O tempo que o sistema demora a executar algumas consultas é um fator importante quando o volume de dados é considerável. Execute o comando:\n",
    "\n",
    "**\\\\timing** ⮐\n",
    "\n",
    "para ativar ou desativar a cronometragem da execução dos comandos SQL."
   ]
  },
  {
   "cell_type": "markdown",
   "id": "8ceb9ecf-c2ab-4e72-9688-7ee94ceb112b",
   "metadata": {},
   "source": [
    "Uma vez na sessão Postgres, poderá executar algumas consultas introduzindo comandos SQL, nomeadamente:"
   ]
  },
  {
   "cell_type": "markdown",
   "id": "524c3a5a-5f45-49b7-9ee9-05c001496579",
   "metadata": {},
   "source": [
    "- ver a lista completa de clientes:\n",
    "\n",
    "```sql\n",
    "SELECT * FROM customer; ⮐\n",
    "```"
   ]
  },
  {
   "cell_type": "markdown",
   "id": "d3ccd142-9a58-4fdb-8083-1bc15aa5e3b7",
   "metadata": {
    "tags": []
   },
   "source": [
    "- ver a lista completa de contas:\n",
    "\n",
    "```sql\n",
    "SELECT * FROM account; ⮐\n",
    "```"
   ]
  },
  {
   "cell_type": "markdown",
   "id": "11013dca-528c-4df0-bd06-6bcd2cf648cd",
   "metadata": {},
   "source": [
    "- ver o saldo da conta A-101:\n",
    "\n",
    "```sql\n",
    "SELECT balance FROM account\n",
    "WHERE account_number='A-101'; ⮐\n",
    "```"
   ]
  },
  {
   "cell_type": "markdown",
   "id": "856a55dd-2676-4b9c-badd-9b97b132e168",
   "metadata": {
    "tags": []
   },
   "source": [
    "- ver todos os clientes que não são depositantes (i.e. não têm contas):\n",
    "\n",
    "```sql\n",
    "SELECT * FROM customer \n",
    "WHERE customer_name NOT IN (\n",
    "SELECT customer_name FROM depositor); ⮐\n",
    "```"
   ]
  },
  {
   "cell_type": "markdown",
   "id": "e77b8d3e-fbf7-4b27-96cb-b4449ea555f7",
   "metadata": {},
   "source": [
    "**Nota:** Em aulas futuras irá aprender a obter a resposta para consultas mais complexas."
   ]
  },
  {
   "cell_type": "code",
   "execution_count": null,
   "id": "9d4828a9-91c2-4f9a-8f4f-cb1f18e06455",
   "metadata": {},
   "outputs": [],
   "source": []
  }
 ],
 "metadata": {
  "kernelspec": {
   "display_name": "Python 3 (ipykernel)",
   "language": "python",
   "name": "python3"
  },
  "language_info": {
   "codemirror_mode": {
    "name": "ipython",
    "version": 3
   },
   "file_extension": ".py",
   "mimetype": "text/x-python",
   "name": "python",
   "nbconvert_exporter": "python",
   "pygments_lexer": "ipython3",
   "version": "3.11.8"
  }
 },
 "nbformat": 4,
 "nbformat_minor": 5
}
