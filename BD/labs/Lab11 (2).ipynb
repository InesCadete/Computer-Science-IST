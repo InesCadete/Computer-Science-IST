{
 "cells": [
  {
   "cell_type": "markdown",
   "id": "9f16d8f3-228b-4ea2-aaa8-2bed90476e1a",
   "metadata": {},
   "source": [
    "# Lab 11: Índices & Optimização"
   ]
  },
  {
   "cell_type": "code",
   "execution_count": null,
   "id": "5c34185e-385f-484c-a55c-b655c2348fb3",
   "metadata": {},
   "outputs": [],
   "source": [
    "%load_ext sql\n",
    "%config SqlMagic.displaycon = 0\n",
    "%config SqlMagic.displaylimit = 100\n",
    "%config SqlMagic.feedback = 0\n",
    "%sql postgresql+psycopg://db:db@postgres/db --alias psql\n",
    "%sql sqlite:////home/jovyan/data/measurements.db --alias sqlite"
   ]
  },
  {
   "cell_type": "markdown",
   "id": "ad19da80-c329-488d-b73e-b37cd953ea33",
   "metadata": {},
   "source": [
    "## 1. Importação"
   ]
  },
  {
   "cell_type": "markdown",
   "id": "efaf6ca8-3c10-495d-bb84-cd4c9d55ed92",
   "metadata": {},
   "source": [
    "### 1.1. Importação de dados em PostgreSQL"
   ]
  },
  {
   "cell_type": "markdown",
   "id": "472ec537-decd-4234-97ef-00a98068bb59",
   "metadata": {},
   "source": [
    "Importe os dados do ficheiro usando as instruções SQL que se seguem num Terminal (psql):"
   ]
  },
  {
   "cell_type": "markdown",
   "id": "5ad1469c-0bd9-48f3-b218-9c7c131c7e26",
   "metadata": {},
   "source": [
    "1. Ligue-se ao PostgreSQL usando o cliente de linha de comandos `psql`.\n",
    "\n",
    "```bash\n",
    "psql -h postgres -U db\n",
    "```\n",
    "\n",
    "2. Introduza a password do utilizador `db`.\n",
    "\n",
    "    `db`\n",
    "\n",
    "3. Garanta que a tabela `measurement` e os índices associados não existem\n",
    "\n",
    "```sql\n",
    "DROP TABLE IF EXISTS measurement;\n",
    "\n",
    "```\n",
    "   \n",
    "4. Crie a tabela `measurement` com tipos de dados adequados\n",
    "\n",
    "```sql\n",
    "CREATE TABLE\n",
    "  measurement (city TEXT, temperature FLOAT);\n",
    "\n",
    "```\n",
    "   \n",
    "5. Importe as medições a partir do ficheiro `data/measurements.txt`\n",
    "\n",
    "```sql\n",
    "\\copy measurement(city, temperature) FROM 'data/measurements.txt' DELIMITER ';' CSV;\n",
    "\n",
    "```"
   ]
  },
  {
   "cell_type": "markdown",
   "id": "37f0aee3-7757-47f3-bdeb-154a8b1784af",
   "metadata": {},
   "source": [
    "### 1.2. Importação de dados em SQLite"
   ]
  },
  {
   "cell_type": "markdown",
   "id": "3f34995e-c8ab-42ca-b1c3-86e449fbe4cf",
   "metadata": {},
   "source": [
    "Importe os dados do ficheiro usando as instruções SQL que se seguem num Terminal (sqlite3):"
   ]
  },
  {
   "cell_type": "markdown",
   "id": "330a2644-c9ae-429b-a177-a21195c16cac",
   "metadata": {},
   "source": [
    "1. Abra a `measurements.db` usando o cliente de linha de comandos `sqlite3`.\n",
    "\n",
    "```bash\n",
    "sqlite3 data/measurements.db\n",
    "```\n",
    "\n",
    "2. Garanta que a tabela `measurement` e os índices associados não existem\n",
    "\n",
    "```sql\n",
    "DROP TABLE IF EXISTS measurement;\n",
    "\n",
    "```\n",
    "\n",
    "3. Crie a tabela `measurement` com tipos de dados adequados\n",
    "\n",
    "```sql\n",
    "CREATE TABLE\n",
    "  measurement (city TEXT, temperature FLOAT);\n",
    "\n",
    "```\n",
    "\n",
    "4. Importe as medições a partir do ficheiro `data/measurements.txt`\n",
    "\n",
    "```sql\n",
    ".mode csv\n",
    ".separator ;\n",
    ".import data/measurements.txt measurement\n",
    "\n",
    "```"
   ]
  },
  {
   "cell_type": "markdown",
   "id": "098f9ddd-1c85-4f4d-b417-27872379c306",
   "metadata": {},
   "source": [
    "Após a importação dos dados prossiga com o notebook no JupyterLab."
   ]
  },
  {
   "cell_type": "markdown",
   "id": "064a6da3-cc35-413d-880c-bd1f6699bfd1",
   "metadata": {},
   "source": [
    "## 2. Optimização"
   ]
  },
  {
   "cell_type": "markdown",
   "id": "82e1d6c9-343b-4b3b-bedb-163d1f86b0ca",
   "metadata": {},
   "source": [
    "### 2.1. Planeamento de Consultas e Optimização no PostgreSQL"
   ]
  },
  {
   "cell_type": "markdown",
   "id": "18c8b4c9-f51f-493e-acc9-071b402be3c6",
   "metadata": {},
   "source": [
    "Fazemos agora uma primeira análise do plano para a consulta que queremos optimizar no psql:"
   ]
  },
  {
   "cell_type": "code",
   "execution_count": null,
   "id": "2ecfde90-0e2e-494f-8d39-0daf22e6d915",
   "metadata": {
    "vscode": {
     "languageId": "sql"
    }
   },
   "outputs": [],
   "source": [
    "%%sql psql\n",
    "EXPLAIN (ANALYZE, BUFFERS)\n",
    "SELECT\n",
    "  city,\n",
    "  MIN(temperature) min_temperature,\n",
    "  CAST(AVG(temperature) AS DECIMAL(8, 1)) mean_temperature,\n",
    "  MAX(temperature) max_measure\n",
    "FROM\n",
    "  measurement\n",
    "GROUP BY\n",
    "  city\n",
    "ORDER BY\n",
    "  city\n",
    "LIMIT\n",
    "  5;"
   ]
  },
  {
   "cell_type": "markdown",
   "id": "bc4d9562-9888-4641-bb99-c1edda183a06",
   "metadata": {},
   "source": [
    "Quais são as colunas envolvidas em operações com custo elevado (i.e., `cost`)?"
   ]
  },
  {
   "cell_type": "markdown",
   "id": "ac7d74e1-c987-4df7-b878-e9c057e4823c",
   "metadata": {},
   "source": [
    "a) Estime _Queries-Per-Second_ (QPS)\n",
    "\n",
    "    Total_Time = Planning_Time + Execution_Time\n",
    "    QPS = 1000 (ms) / Total_Time (ms)"
   ]
  },
  {
   "cell_type": "code",
   "execution_count": null,
   "id": "cab9d3a5-6dd9-436c-9d66-1604bb6da52f",
   "metadata": {},
   "outputs": [],
   "source": []
  },
  {
   "cell_type": "markdown",
   "id": "a0154fd7-5f0d-4a2e-8da5-4c660cd60b3f",
   "metadata": {},
   "source": [
    "### 2.2. Planeamento de Consultas e Optimização no SQLite"
   ]
  },
  {
   "cell_type": "markdown",
   "id": "4bf53725-48c5-45f8-b619-ef18eff0136d",
   "metadata": {},
   "source": [
    "Fazemos agora uma primeira análise do plano para a consulta que queremos optimizar no sqlite:"
   ]
  },
  {
   "cell_type": "code",
   "execution_count": null,
   "id": "6eda3ca2-0249-4d1a-bab0-1a99caf8c4f3",
   "metadata": {
    "vscode": {
     "languageId": "sql"
    }
   },
   "outputs": [],
   "source": [
    "%%sql sqlite\n",
    "EXPLAIN QUERY PLAN\n",
    "SELECT\n",
    "  city,\n",
    "  MIN(temperature) min_temperature,\n",
    "  CAST(AVG(temperature) AS DECIMAL(8, 1)) mean_temperature,\n",
    "  MAX(temperature) max_measure\n",
    "FROM\n",
    "  measurement\n",
    "GROUP BY\n",
    "  city\n",
    "ORDER BY\n",
    "  city\n",
    "LIMIT\n",
    "  5;"
   ]
  },
  {
   "cell_type": "markdown",
   "id": "c7cfb603-7c80-46ed-b74f-1e2111df7dc7",
   "metadata": {},
   "source": [
    "Sem indicação de custo ou buffers concentrámo-nos apenas no reconhecimento das operações no plano de consulta.\n",
    "\n",
    "Nota: A criação de índices _apriori_ poderá evitar a computação de estruturas de dados auxiliares no momento da consulta."
   ]
  },
  {
   "cell_type": "markdown",
   "id": "0838ec76-ffad-49ec-bd80-e9ee12dadbfd",
   "metadata": {},
   "source": [
    "## 3. Criação de Índices"
   ]
  },
  {
   "cell_type": "markdown",
   "id": "88082f1f-cf3f-47a4-860c-c87e03bd660a",
   "metadata": {},
   "source": [
    "Ambos os planos parecem indicar que fará sentido criar um índice na coluna *city* para optimizar o GROUP BY (e o ORDER BY)."
   ]
  },
  {
   "cell_type": "markdown",
   "id": "b797271f-9ce0-4030-8b0d-483b1cc1d455",
   "metadata": {},
   "source": [
    "### 3.1. Criação de Índice em `city` no PostgreSQL"
   ]
  },
  {
   "cell_type": "code",
   "execution_count": null,
   "id": "1e36b8dd-58b6-449a-8437-583c477e9b23",
   "metadata": {
    "vscode": {
     "languageId": "sql"
    }
   },
   "outputs": [],
   "source": [
    "%%sql psql\n",
    "CREATE INDEX CONCURRENTLY measurement_idx_city ON measurement (city);"
   ]
  },
  {
   "cell_type": "code",
   "execution_count": null,
   "id": "66dedfb3-359f-4379-aee4-0654dcb1b62f",
   "metadata": {
    "vscode": {
     "languageId": "sql"
    }
   },
   "outputs": [],
   "source": [
    "%%sql psql\n",
    "EXPLAIN (ANALYZE, BUFFERS)\n",
    "SELECT\n",
    "  city,\n",
    "  MIN(temperature) min_temperature,\n",
    "  CAST(AVG(temperature) AS DECIMAL(8, 1)) mean_temperature,\n",
    "  MAX(temperature) max_measure\n",
    "FROM\n",
    "  measurement\n",
    "GROUP BY\n",
    "  city\n",
    "ORDER BY\n",
    "  city\n",
    "LIMIT\n",
    "  5;"
   ]
  },
  {
   "cell_type": "markdown",
   "id": "373e2d60-8c37-4bc7-acf7-4caad9745f1f",
   "metadata": {},
   "source": [
    "Esta consulta é agora essencialmente um Index Scan. Ainda estamos a ler muitos dados do disco (*buffers*). Podemos fazer melhor?\n",
    "\n",
    "Nota: Há uma redução significativa da complexidade do GROUP BY (GroupAggregate)."
   ]
  },
  {
   "cell_type": "markdown",
   "id": "88e5b607-b745-4aa3-8a20-8e59032d1737",
   "metadata": {},
   "source": [
    "a) Estime _Queries-Per-Second_ (QPS)\n",
    "\n",
    "    Total_Time = Planning_Time + Execution_Time\n",
    "    QPS = 1000 (ms) / Total_Time (ms)"
   ]
  },
  {
   "cell_type": "code",
   "execution_count": null,
   "id": "144b25af-bc79-49e6-be0f-8221be7c8040",
   "metadata": {},
   "outputs": [],
   "source": []
  },
  {
   "cell_type": "markdown",
   "id": "f6234db9-73d8-4b22-87d6-41001e919a23",
   "metadata": {},
   "source": [
    "### 3.2. Criação de Índice em `city` no SQLite"
   ]
  },
  {
   "cell_type": "code",
   "execution_count": null,
   "id": "4ce889bd-e8a7-45f6-99b6-0777ccb41caf",
   "metadata": {
    "vscode": {
     "languageId": "sql"
    }
   },
   "outputs": [],
   "source": [
    "%%sql sqlite\n",
    "CREATE INDEX measurement_idx_city ON measurement (city);"
   ]
  },
  {
   "cell_type": "code",
   "execution_count": null,
   "id": "f16e1691-8461-4672-90f3-ae99e07756a2",
   "metadata": {
    "vscode": {
     "languageId": "sql"
    }
   },
   "outputs": [],
   "source": [
    "%%sql sqlite\n",
    "EXPLAIN QUERY PLAN\n",
    "SELECT\n",
    "  city,\n",
    "  MIN(temperature) min_temperature,\n",
    "  CAST(AVG(temperature) AS DECIMAL(8, 1)) mean_temperature,\n",
    "  MAX(temperature) max_measure\n",
    "FROM\n",
    "  measurement\n",
    "GROUP BY\n",
    "  city\n",
    "ORDER BY\n",
    "  city\n",
    "LIMIT\n",
    "  5;"
   ]
  },
  {
   "cell_type": "markdown",
   "id": "866c8400-4cdf-4428-af1e-038f7da500b9",
   "metadata": {},
   "source": [
    "Esta consulta é agora um Index Scan. Podemos fazer melhor?"
   ]
  },
  {
   "cell_type": "markdown",
   "id": "34fafa8f-5d81-43b1-888e-567c7aa1051e",
   "metadata": {},
   "source": [
    "## 4. Criação de Índices Compostos"
   ]
  },
  {
   "cell_type": "markdown",
   "id": "6d1857c4-5d11-4c5c-969a-d1efbc196ecb",
   "metadata": {},
   "source": [
    "Podemos criar um *composite index* que cubra também a *temperature*!"
   ]
  },
  {
   "cell_type": "markdown",
   "id": "29477cca-c771-4eca-85e4-ba2d0933651e",
   "metadata": {},
   "source": [
    "### 4.1 Criação de Índice Composto por `(city, temperature)` no PostgreSQL"
   ]
  },
  {
   "cell_type": "code",
   "execution_count": null,
   "id": "6ed91c6d-4e3b-484b-b9a8-0b0ec2fd6295",
   "metadata": {
    "vscode": {
     "languageId": "sql"
    }
   },
   "outputs": [],
   "source": [
    "%%sql psql\n",
    "CREATE INDEX CONCURRENTLY measurement_idx_city_temperature ON measurement (city, temperature);"
   ]
  },
  {
   "cell_type": "code",
   "execution_count": null,
   "id": "3a7b1f01-f683-4953-8d57-2fb6666ca2fe",
   "metadata": {
    "vscode": {
     "languageId": "sql"
    }
   },
   "outputs": [],
   "source": [
    "%%sql psql\n",
    "EXPLAIN (ANALYZE, BUFFERS)\n",
    "SELECT\n",
    "  city,\n",
    "  MIN(temperature) min_temperature,\n",
    "  CAST(AVG(temperature) AS DECIMAL(8, 1)) mean_temperature,\n",
    "  MAX(temperature) max_measure\n",
    "FROM\n",
    "  measurement\n",
    "GROUP BY\n",
    "  city\n",
    "ORDER BY\n",
    "  city\n",
    "LIMIT\n",
    "  5;"
   ]
  },
  {
   "cell_type": "markdown",
   "id": "770dcbdb-7cde-4176-9731-6cfe8ac2890b",
   "metadata": {},
   "source": [
    "Esta consulta é agora essencialmente um Index Only Scan.\n",
    "\n",
    "Nota: Há uma redução significativa do acesso ao disco (*buffers*)."
   ]
  },
  {
   "cell_type": "markdown",
   "id": "d7816be1-4811-4c90-9302-b7c031f50539",
   "metadata": {},
   "source": [
    "a) Estime _Queries-Per-Second_ (QPS)\n",
    "\n",
    "    Total_Time = Planning_Time + Execution_Time\n",
    "    QPS = 1000 (ms) / Total_Time (ms)"
   ]
  },
  {
   "cell_type": "code",
   "execution_count": null,
   "id": "da31982a-b77c-40c3-a253-468b4043779d",
   "metadata": {},
   "outputs": [],
   "source": []
  },
  {
   "cell_type": "markdown",
   "id": "36ae0ea8-c79c-4f25-adeb-255b06cf0728",
   "metadata": {},
   "source": [
    "### 4.2. Criação de Índice Composto por `(city, temperature)` no SQLite"
   ]
  },
  {
   "cell_type": "code",
   "execution_count": null,
   "id": "aff640b7-1f10-4f8d-9d61-74442c6c0b41",
   "metadata": {
    "vscode": {
     "languageId": "sql"
    }
   },
   "outputs": [],
   "source": [
    "%%sql sqlite\n",
    "CREATE INDEX measurement_idx_city_temperature ON measurement (city, temperature);"
   ]
  },
  {
   "cell_type": "code",
   "execution_count": null,
   "id": "0c719a5c-2476-493b-9fca-7eb37618d125",
   "metadata": {
    "vscode": {
     "languageId": "sql"
    }
   },
   "outputs": [],
   "source": [
    "%%sql sqlite\n",
    "EXPLAIN QUERY PLAN\n",
    "SELECT\n",
    "  city,\n",
    "  MIN(temperature) min_temperature,\n",
    "  CAST(AVG(temperature) AS DECIMAL(8, 1)) mean_temperature,\n",
    "  MAX(temperature) max_measure\n",
    "FROM\n",
    "  measurement\n",
    "GROUP BY\n",
    "  city\n",
    "ORDER BY\n",
    "  city\n",
    "LIMIT\n",
    "  5;"
   ]
  },
  {
   "cell_type": "markdown",
   "id": "4eb24d8a-538d-4b4a-a51f-3c067e7f519a",
   "metadata": {},
   "source": [
    "Nota: A expressão equivalente a Index Only Scan no sqlite é SCAN attrs USING COVERING INDEX."
   ]
  },
  {
   "cell_type": "markdown",
   "id": "8807b4a3-3257-4d4e-9188-a6ebb2e827d4",
   "metadata": {},
   "source": [
    "## 5. Criação de Índices no _Schema_"
   ]
  },
  {
   "cell_type": "markdown",
   "id": "95ee35b1-4052-4fcd-a64a-b785797ae012",
   "metadata": {},
   "source": [
    "Agora que já sabemos que o *composite index* é útil para a consulta que estamos a optimizar, podemos criá-lo como parte do processo de criação da tabela.\n",
    "\n",
    "No entanto, note que se fizermos a importação dos dados após a criação do *composite index*, a importação irá demorar mais tempo devido à computação do índice em simultâneo. "
   ]
  },
  {
   "cell_type": "markdown",
   "id": "8998a5db-d80b-4b49-bb19-bb1984fbc240",
   "metadata": {},
   "source": [
    "### 5.1. Criação de Índices no _Schema_ em PostgreSQL"
   ]
  },
  {
   "cell_type": "markdown",
   "id": "df48cf1f-711d-4a07-a859-c02c8818acc3",
   "metadata": {},
   "source": [
    "Note a diferença, importando novamente os dados do ficheiro usando as instruções SQL que se seguem no Terminal (psql):"
   ]
  },
  {
   "cell_type": "markdown",
   "id": "f7d4bf6f-a286-4ddd-80c1-73db5d48168c",
   "metadata": {},
   "source": [
    "1. Garanta que a tabela `measurement` e os índices associados não existem\n",
    "\n",
    "```sql\n",
    "DROP TABLE IF EXISTS measurement;\n",
    "\n",
    "```\n",
    "   \n",
    "2. Crie a tabela `measurement` com tipos de dados adequados\n",
    "\n",
    "```sql\n",
    "CREATE TABLE\n",
    "  measurement (city TEXT, temperature FLOAT);\n",
    "\n",
    "```\n",
    "\n",
    "3. Crie o índice adequado para a consulta\n",
    "\n",
    "```sql\n",
    "CREATE INDEX CONCURRENTLY measurement_idx_city_temperature ON measurement (city, temperature);\n",
    "\n",
    "```\n",
    "\n",
    "4. Importe as medições a partir do ficheiro `data/measurements.txt`\n",
    "\n",
    "```sql\n",
    "\\copy measurement(city, temperature) FROM 'data/measurements.txt' DELIMITER ';' CSV;\n",
    "\n",
    "```"
   ]
  },
  {
   "cell_type": "markdown",
   "id": "9de2c4e8-2a5a-4a62-9d30-82624c4e2df0",
   "metadata": {},
   "source": [
    "### 5.2. Criação de Índices no _Schema_ em SQLite"
   ]
  },
  {
   "cell_type": "markdown",
   "id": "4c69518c-f5d0-4417-8bf6-c3a15f04a90a",
   "metadata": {},
   "source": [
    "Note a diferença, importando novamente os dados do ficheiro usando as instruções SQL que se seguem no Terminal (sqlite3):"
   ]
  },
  {
   "cell_type": "markdown",
   "id": "4bc5e9d0-2701-40fd-b599-ba05a4a16d92",
   "metadata": {},
   "source": [
    "1. Garanta que a tabela `measurement` e os índices associados não existem\n",
    "\n",
    "```sql\n",
    "DROP TABLE IF EXISTS measurement;\n",
    "\n",
    "```\n",
    "   \n",
    "2. Crie a tabela `measurement` com tipos de dados adequados\n",
    "\n",
    "```sql\n",
    "CREATE TABLE\n",
    "  measurement (city TEXT, temperature FLOAT);\n",
    "\n",
    "```\n",
    "\n",
    "3. Crie o índice adequado para a consulta\n",
    "\n",
    "```sql\n",
    "CREATE INDEX measurement_idx_city_temperature ON measurement (city, temperature);\n",
    "\n",
    "```\n",
    "\n",
    "4. Importe as medições a partir do ficheiro `data/measurements.txt`\n",
    "\n",
    "```sql\n",
    ".mode csv\n",
    ".separator ;\n",
    ".import data/measurements.txt measurement\n",
    "\n",
    "```"
   ]
  }
 ],
 "metadata": {
  "kernelspec": {
   "display_name": "Python 3 (ipykernel)",
   "language": "python",
   "name": "python3"
  },
  "language_info": {
   "codemirror_mode": {
    "name": "ipython",
    "version": 3
   },
   "file_extension": ".py",
   "mimetype": "text/x-python",
   "name": "python",
   "nbconvert_exporter": "python",
   "pygments_lexer": "ipython3",
   "version": "3.11.9"
  }
 },
 "nbformat": 4,
 "nbformat_minor": 5
}
